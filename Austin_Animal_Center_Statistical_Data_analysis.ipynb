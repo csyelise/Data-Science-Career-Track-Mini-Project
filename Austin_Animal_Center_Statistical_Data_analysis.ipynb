{
 "cells": [
  {
   "cell_type": "markdown",
   "metadata": {},
   "source": [
    "# Austin_Animal_Center_Statistical_Data_analysis"
   ]
  },
  {
   "cell_type": "code",
   "execution_count": 1,
   "metadata": {},
   "outputs": [],
   "source": [
    "from scipy.stats import norm\n",
    "from scipy.stats import t\n",
    "import numpy as np\n",
    "import pandas as pd\n",
    "from numpy.random import seed\n",
    "import matplotlib.pyplot as plt"
   ]
  },
  {
   "cell_type": "code",
   "execution_count": 2,
   "metadata": {},
   "outputs": [],
   "source": [
    "combined = pd.read_csv('aac_intakes_outcomes.csv')"
   ]
  },
  {
   "cell_type": "code",
   "execution_count": 3,
   "metadata": {},
   "outputs": [
    {
     "name": "stderr",
     "output_type": "stream",
     "text": [
      "/Users/elisechen/anaconda3/envs/TestEnv/lib/python3.7/site-packages/ipykernel_launcher.py:4: SettingWithCopyWarning: \n",
      "A value is trying to be set on a copy of a slice from a DataFrame.\n",
      "Try using .loc[row_indexer,col_indexer] = value instead\n",
      "\n",
      "See the caveats in the documentation: http://pandas.pydata.org/pandas-docs/stable/indexing.html#indexing-view-versus-copy\n",
      "  after removing the cwd from sys.path.\n"
     ]
    }
   ],
   "source": [
    "# Drop the row with missing value in sex\n",
    "combine = combined.dropna(subset=['sex_upon_intake', 'sex_upon_outcome','outcome_type'])\n",
    "#replace outcome_subtype with 'Normal'\n",
    "combine['outcome_subtype'] = combine['outcome_subtype'].replace(np.nan, 'Normal')\n",
    "# Drop values of October of 2013 and  April of 2014\n",
    "combine = combine.loc[(combine['intake_monthyear'] != '2013-10') | (combine['outcome_monthyear'] != '2013-10') |(combine['outcome_monthyear'] != '2018-04')]\n",
    "# Drop the Unknown sex of Dog or Cat\n",
    "combine = combine.loc[((combine['animal_type'] == 'Dog') & (combine['sex_upon_intake'] != 'Unknown')) | ((combine['animal_type'] == 'Cat') & (combine['sex_upon_intake'] != 'Unknown')) | (combine['animal_type'] == 'Bird') | (combine['animal_type'] == 'Other')]"
   ]
  },
  {
   "cell_type": "code",
   "execution_count": null,
   "metadata": {},
   "outputs": [],
   "source": []
  },
  {
   "cell_type": "markdown",
   "metadata": {},
   "source": [
    "# Primary questions"
   ]
  },
  {
   "cell_type": "markdown",
   "metadata": {},
   "source": [
    "Does Animal types (Dog or cat) affect addoption rate?"
   ]
  },
  {
   "cell_type": "code",
   "execution_count": 4,
   "metadata": {},
   "outputs": [
    {
     "name": "stdout",
     "output_type": "stream",
     "text": [
      "26958\n"
     ]
    }
   ],
   "source": [
    "# select the column\n",
    "cat_outcome = combine.loc[(combine.animal_type == 'Cat')].outcome_type.values.squeeze()\n",
    "dog_outcome = combine.loc[(combine.animal_type == 'Dog')].outcome_type.values.reshape(-1)\n",
    "cat_outcome\n",
    "print(len(cat_outcome))"
   ]
  },
  {
   "cell_type": "code",
   "execution_count": 5,
   "metadata": {},
   "outputs": [],
   "source": [
    "#def the percentaion of an object function\n",
    "def percent(array,item):\n",
    "    count = 0\n",
    "    for i in range(len(array)):\n",
    "        if array[i] == item:\n",
    "            count = count + 1\n",
    "            \n",
    "    percent = count/len(array)\n",
    "    return percent"
   ]
  },
  {
   "cell_type": "code",
   "execution_count": 8,
   "metadata": {},
   "outputs": [],
   "source": [
    "np.random.seed(47)\n",
    "#define sampling function\n",
    "def sampling_percent(df,item,size):\n",
    "    fac = np.empty(size)\n",
    "    \n",
    "    for i in range(size):\n",
    "        samples = np.random.choice(df,size=len(df))\n",
    "        fac[i] = percent(samples,item=item)\n",
    "    return fac\n"
   ]
  },
  {
   "cell_type": "code",
   "execution_count": 26,
   "metadata": {},
   "outputs": [],
   "source": [
    "cat_adoption_rate = sampling_percent(df=cat_outcome,item=\"Adoption\",size=5000)"
   ]
  },
  {
   "cell_type": "code",
   "execution_count": 27,
   "metadata": {},
   "outputs": [],
   "source": [
    "dog_adoption_rate = sampling_percent(df=dog_outcome,item=\"Adoption\",size=5000)"
   ]
  },
  {
   "cell_type": "code",
   "execution_count": 28,
   "metadata": {},
   "outputs": [
    {
     "data": {
      "image/png": "[encoded data removed]",
      "text/plain": [
       "<Figure size 432x288 with 1 Axes>"
      ]
     },
     "metadata": {
      "needs_background": "light"
     },
     "output_type": "display_data"
    }
   ],
   "source": [
    "#plot histograms plots\n",
    "\n",
    "_ = plt.hist(cat_adoption_rate, bins=30, alpha=0.5, label='cat adoption rate')\n",
    "_ = plt.hist(dog_adoption_rate, bins=30, alpha=0.5, label='dog adoption rate')\n",
    "_ = plt.xlabel('Adoption rate')\n",
    "_ = plt.ylabel('Frequency')\n",
    "_ = plt.legend()"
   ]
  },
  {
   "cell_type": "code",
   "execution_count": 12,
   "metadata": {},
   "outputs": [],
   "source": [
    "def permutation_sample(data1, data2):\n",
    "\n",
    "    data = np.concatenate((data1,data2))\n",
    "    permuted_data = np.random.permutation(data)\n",
    "    perm_sample_1 = permuted_data[:len(data1)]\n",
    "    perm_sample_2 = permuted_data[len(data1):]\n",
    "\n",
    "    return perm_sample_1, perm_sample_2"
   ]
  },
  {
   "cell_type": "code",
   "execution_count": 13,
   "metadata": {},
   "outputs": [],
   "source": [
    "def draw_perm_reps(data_1, data_2, func, size=1):\n",
    "    \n",
    "    perm_replicates = np.empty(size)\n",
    "\n",
    "    for i in range(size):\n",
    "        \n",
    "        perm_sample_1, perm_sample_2 = permutation_sample(data_1, data_2)\n",
    "        perm_replicates[i] = func(perm_sample_1, perm_sample_2)\n",
    "\n",
    "    return perm_replicates"
   ]
  },
  {
   "cell_type": "code",
   "execution_count": 17,
   "metadata": {},
   "outputs": [],
   "source": [
    "def diff_of_means(data_1, data_2):\n",
    "    diff = np.mean(data_1)-np.mean(data_2)\n",
    "    return diff\n"
   ]
  },
  {
   "cell_type": "markdown",
   "metadata": {},
   "source": [
    "#Null hypothesis: Dog adoption rate is equal to cat adoption rate. \n",
    "#Alternative hypothesis: Dog adoption rate is different from cat adoption rate. "
   ]
  },
  {
   "cell_type": "code",
   "execution_count": 18,
   "metadata": {},
   "outputs": [
    {
     "name": "stdout",
     "output_type": "stream",
     "text": [
      "p-value = 0.0\n"
     ]
    }
   ],
   "source": [
    "obeserved_difference = diff_of_means(cat_adoption_rate,dog_adoption_rate)\n",
    "perm_difference = draw_perm_reps(cat_adoption_rate,dog_adoption_rate,diff_of_means, size=10000)\n",
    "p = np.sum(perm_difference >= obeserved_difference) / len(perm_difference)\n",
    "print('p-value =', p)"
   ]
  },
  {
   "cell_type": "markdown",
   "metadata": {},
   "source": [
    "p value is small enough to reject null hypothesis. "
   ]
  },
  {
   "cell_type": "code",
   "execution_count": null,
   "metadata": {},
   "outputs": [],
   "source": [
    "#T-test"
   ]
  },
  {
   "cell_type": "code",
   "execution_count": 30,
   "metadata": {},
   "outputs": [],
   "source": [
    "#cat\n",
    "cat_mean = np.mean(cat_adoption_rate)\n",
    "cat_n = len(cat_adoption_rate)\n",
    "cat_s = np.std(cat_adoption_rate)"
   ]
  },
  {
   "cell_type": "code",
   "execution_count": 31,
   "metadata": {},
   "outputs": [],
   "source": [
    "#dog\n",
    "dog_mean = np.mean(dog_adoption_rate)\n",
    "dog_n = len(dog_adoption_rate)\n",
    "dog_s = np.std(dog_adoption_rate)"
   ]
  },
  {
   "cell_type": "code",
   "execution_count": 32,
   "metadata": {},
   "outputs": [
    {
     "data": {
      "text/plain": [
       "0.002718918742469962"
      ]
     },
     "execution_count": 32,
     "metadata": {},
     "output_type": "execute_result"
    }
   ],
   "source": [
    "#sp\n",
    "sp = np.sqrt(((cat_n-1)*(cat_s**2)+(dog_n-1)*(dog_s**2))/(cat_n+dog_n-2))\n",
    "sp"
   ]
  },
  {
   "cell_type": "code",
   "execution_count": 33,
   "metadata": {},
   "outputs": [
    {
     "data": {
      "text/plain": [
       "256.67815935079665"
      ]
     },
     "execution_count": 33,
     "metadata": {},
     "output_type": "execute_result"
    }
   ],
   "source": [
    "#t\n",
    "t = (cat_mean-dog_mean)/(sp*np.sqrt(1/cat_n+1/dog_n))\n",
    "t"
   ]
  },
  {
   "cell_type": "code",
   "execution_count": 34,
   "metadata": {},
   "outputs": [
    {
     "data": {
      "text/plain": [
       "0.0"
      ]
     },
     "execution_count": 34,
     "metadata": {},
     "output_type": "execute_result"
    }
   ],
   "source": [
    "#p value\n",
    "p = norm.pdf(t)\n",
    "p"
   ]
  },
  {
   "cell_type": "markdown",
   "metadata": {},
   "source": [
    "T-test get same result that the null hypothesis is rejected. "
   ]
  },
  {
   "cell_type": "code",
   "execution_count": null,
   "metadata": {},
   "outputs": [],
   "source": []
  },
  {
   "cell_type": "code",
   "execution_count": null,
   "metadata": {},
   "outputs": [],
   "source": []
  },
  {
   "cell_type": "code",
   "execution_count": null,
   "metadata": {},
   "outputs": [],
   "source": []
  },
  {
   "cell_type": "code",
   "execution_count": null,
   "metadata": {},
   "outputs": [],
   "source": []
  },
  {
   "cell_type": "code",
   "execution_count": null,
   "metadata": {},
   "outputs": [],
   "source": []
  },
  {
   "cell_type": "code",
   "execution_count": null,
   "metadata": {},
   "outputs": [],
   "source": []
  }
 ],
 "metadata": {
  "kernelspec": {
   "display_name": "Python 3",
   "language": "python",
   "name": "python3"
  },
  "language_info": {
   "codemirror_mode": {
    "name": "ipython",
    "version": 3
   },
   "file_extension": ".py",
   "mimetype": "text/x-python",
   "name": "python",
   "nbconvert_exporter": "python",
   "pygments_lexer": "ipython3",
   "version": "3.7.3"
  }
 },
 "nbformat": 4,
 "nbformat_minor": 2
}
